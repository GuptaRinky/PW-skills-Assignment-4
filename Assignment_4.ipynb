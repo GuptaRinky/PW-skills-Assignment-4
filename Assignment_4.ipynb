{
  "nbformat": 4,
  "nbformat_minor": 0,
  "metadata": {
    "colab": {
      "provenance": []
    },
    "kernelspec": {
      "name": "python3",
      "display_name": "Python 3"
    },
    "language_info": {
      "name": "python"
    }
  },
  "cells": [
    {
      "cell_type": "markdown",
      "source": [
        "# Python OOPs Questions"
      ],
      "metadata": {
        "id": "VtCi1KKrISv8"
      }
    },
    {
      "cell_type": "markdown",
      "source": [
        "Ques-1  What is Object-Oriented Programming (OOP)?\n",
        "\n",
        "- Object-Oriented Programming (OOP) is a programming paradigm that organizes code based on objects, which are instances of classes. It is widely used in modern software development because it enhances code reusability, modularity, and scalability."
      ],
      "metadata": {
        "id": "_LSp16pFIVYF"
      }
    },
    {
      "cell_type": "markdown",
      "source": [
        "Ques-2  What is a class in OOP?\n",
        "\n",
        "-  A class is a blueprint or template for creating objects in Object-Oriented Programming (OOP). It defines the attributes (data members) and methods (functions) that describe the behavior and characteristics of the objects.\n",
        "- A class acts as a blueprint, and objects are instances of that blueprint. Classes help in structuring programs by grouping related data and behavior together, making code reusable and modular.\n",
        "\n",
        "\n",
        "\n",
        "\n",
        "\n",
        "\n",
        "\n",
        "\n"
      ],
      "metadata": {
        "id": "EVuXdPOBJVbm"
      }
    },
    {
      "cell_type": "markdown",
      "source": [
        "Ques-3  What is an object in OOP?\n",
        "\n",
        "- An object is an instance of a class in Object-Oriented Programming (OOP). It represents a real-world entity with state (attributes) and behavior (methods)."
      ],
      "metadata": {
        "id": "NTYPXSTYJ4PU"
      }
    },
    {
      "cell_type": "markdown",
      "source": [
        "Ques-4  What is the difference between abstraction and encapsulation?\n",
        "\n",
        "- Abstraction is about hiding unnecessary details and exposing only the essential parts.\n",
        "\n",
        "- Encapsulation is about protecting data by restricting direct access to it.\n",
        "\n",
        "- Abstraction is implemented using abstract classes and interfaces.\n",
        "\n",
        "- Encapsulation is implemented using private variables and access modifiers.\n",
        "\n",
        "- Both work together to improve security and maintainability in OOP."
      ],
      "metadata": {
        "id": "KMYzOoGPKZ-i"
      }
    },
    {
      "cell_type": "markdown",
      "source": [
        "Ques-5  What are dunder methods in Python?\n",
        "\n",
        "- Dunder methods (short for \"Double UNDERscore methods\"), also known as magic methods or special methods, are built-in methods in Python that have double underscores (__) before and after their names. These methods allow objects to interact with Python's built-in operations, like arithmetic, comparison, and object representation."
      ],
      "metadata": {
        "id": "iu-0oBG_LMwF"
      }
    },
    {
      "cell_type": "markdown",
      "source": [
        "Ques-6  Explain the concept of inheritance in OOP.\n",
        "\n",
        "- Inheritance is one of the fundamental concepts of OOP that allows a class (child class) to inherit attributes and methods from another class (parent class). It promotes code reusability and establishes a hierarchical relationship between classes.\n",
        "\n",
        "Types of Inheritance\n",
        "\n",
        "1. Single Inheritance – One class inherits from another.\n",
        "\n",
        "2. Multiple Inheritance – A class inherits from multiple parent classes.\n",
        "\n",
        "3. Multilevel Inheritance – A class inherits from another child class.\n",
        "\n",
        "4. Hierarchical Inheritance – Multiple child classes inherit from the same parent.\n",
        "\n",
        "5. Hybrid Inheritance – A combination of multiple types of inheritance."
      ],
      "metadata": {
        "id": "EuUYi7uJL-VB"
      }
    },
    {
      "cell_type": "markdown",
      "source": [
        "Ques-7  What is polymorphism in OOP?\n",
        "\n",
        "- Polymorphism (Greek: poly = \"many\", morph = \"forms\") is an OOP concept that allows objects to be treated as instances of their parent class while behaving differently based on their actual class.\n",
        "\n",
        "Types of Polymorphism\n",
        "\n",
        "1. Compile-Time Polymorphism (Method Overloading)\n",
        "\n",
        "2. Runtime Polymorphism (Method Overriding)\n",
        "\n"
      ],
      "metadata": {
        "id": "Mps9YfepMoXj"
      }
    },
    {
      "cell_type": "markdown",
      "source": [
        "Ques-8  How is encapsulation achieved in Python?\n",
        "\n",
        "- Encapsulation is an OOP concept that restricts direct access to an object's data and ensures controlled interaction through methods. It helps in data protection, modularity, and security.\n",
        "\n",
        "How is Encapsulation Achieved in Python?\n",
        "\n",
        "Encapsulation is implemented using access modifiers:\n",
        "\n",
        "1. Public (public_var) – Accessible from anywhere.\n",
        "\n",
        "2. Protected (_protected_var) – Intended for internal use but still accessible.\n",
        "\n",
        "3. Private (__private_var) – Cannot be accessed directly from outside the class."
      ],
      "metadata": {
        "id": "2BKk97ghN1t4"
      }
    },
    {
      "cell_type": "markdown",
      "source": [
        "Ques-9  What is a constructor in Python?\n",
        "\n",
        "- A constructor in Python is a special method called __init__ that automatically initializes objects when a class is instantiated. It is used to assign values to attributes and set up necessary configurations."
      ],
      "metadata": {
        "id": "GQMkWUE2OZwR"
      }
    },
    {
      "cell_type": "markdown",
      "source": [
        "Ques-10  What are class and static methods in Python?\n",
        "\n",
        "- In Python, class methods and static methods are used when we need methods that are not tied to an instance but instead to the class itself. They are defined using decorators:\n",
        "\n",
        "@classmethod → Works on the class itself, not instances.\n",
        "\n",
        "@staticmethod → A function inside a class that does not depend on instance or class variables.\n",
        "\n"
      ],
      "metadata": {
        "id": "VQxk8OyhPM-y"
      }
    },
    {
      "cell_type": "markdown",
      "source": [
        "Ques-11  What is method overloading in Python?\n",
        "\n",
        "\n",
        "- Method overloading refers to the ability of a class to have multiple methods with the same name but different parameters (i.e., number of arguments or types of arguments)."
      ],
      "metadata": {
        "id": "y0A9Qcy-PgEw"
      }
    },
    {
      "cell_type": "markdown",
      "source": [
        "Ques-12   What is method overriding in OOP?\n",
        "\n",
        "- Method overriding is a concept in OOP where a child class provides a specific implementation for a method that is already defined in its parent class. The child class \"overrides\" the parent class's method, allowing it to provide its own version of that method. This allows polymorphic behavior, where the method behavior changes depending on the type of object that is calling it.\n",
        "\n",
        "- When a method in the child class has the same name as the one in the parent class, the child class method overrides the parent class method. This allows the child class to provide its own behavior for that method."
      ],
      "metadata": {
        "id": "F6uD7prXQHZv"
      }
    },
    {
      "cell_type": "markdown",
      "source": [
        "Ques-13  What is a property decorator in Python?\n",
        "\n",
        "- The @property decorator in Python is a built-in function that allows you to define methods that act like attributes. It is used to provide a getter method for an attribute, while still keeping the logic encapsulated inside the class. This way, you can access methods like attributes, but the underlying implementation can be controlled.\n",
        "\n",
        "- The @property decorator is useful when you want to control the access and modification of an attribute, without exposing the logic to the user of the class."
      ],
      "metadata": {
        "id": "pah_8fuLRAjV"
      }
    },
    {
      "cell_type": "markdown",
      "source": [
        "Ques-14  Why is polymorphism important in OOP?\n",
        "\n",
        "- Polymorphism is one of the four fundamental principles of Object-Oriented Programming (OOP), alongside encapsulation, abstraction, and inheritance. The term \"polymorphism\" comes from Greek, meaning \"many forms.\" In OOP, polymorphism allows objects of different classes to be treated as objects of a common superclass, particularly when they share the same method names or interfaces. This enables different behaviors in response to the same method call, depending on the type of the object.\n",
        "\n",
        "- Polymorphism is essential in OOP because it provides flexibility, extensibility, and reusability. It allows for simplified code that can handle a variety of objects in a unified way, without knowing their exact types. Through method overriding (runtime polymorphism) and method overloading (compile-time polymorphism), polymorphism promotes more adaptable, maintainable, and scalable software systems."
      ],
      "metadata": {
        "id": "jhoj5Th3Rhcu"
      }
    },
    {
      "cell_type": "markdown",
      "source": [
        "Ques-15  What is an abstract class in Python?\n",
        "\n",
        "- An abstract class in Python is a class that cannot be instantiated directly. It serves as a blueprint for other classes. Abstract classes allow you to define methods that must be implemented in derived (sub) classes, but they provide no implementation themselves. The purpose of abstract classes is to enforce a certain structure and guarantee that certain methods are implemented in any subclass.\n",
        "\n",
        "- An abstract class is defined using the abc module (Abstract Base Class) in Python. The ABC class (from the abc module) is used as a base class, and the @abstractmethod decorator is used to define abstract methods.\n",
        "\n",
        "- To define an abstract class in Python:\n",
        "\n",
        "1. Import the ABC and abstractmethod from the abc module.\n",
        "\n",
        "2. Define the abstract class by inheriting from ABC.\n",
        "\n",
        "3. Use the @abstractmethod decorator to declare methods that must be implemented in subclasses."
      ],
      "metadata": {
        "id": "uQx9tDr8R6TA"
      }
    },
    {
      "cell_type": "markdown",
      "source": [
        "Ques-16  What are the advantages of OOP?\n",
        "\n",
        "- Advantages of OOP\n",
        "\n",
        "1. Modularity: Code is organized into classes and objects, making it easier to manage and maintain.\n",
        "\n",
        "2. Reusability: Inheritance allows for reusing existing code and extending functionality.\n",
        "\n",
        "3. Maintainability: Encapsulation makes code easier to update and modify without affecting other parts of the system.\n",
        "\n",
        "4. Scalability and Extensibility: OOP systems are flexible and can be easily extended by adding new classes or methods.\n",
        "\n",
        "5. Data Security: Encapsulation restricts direct access to data, ensuring data integrity and security.\n",
        "\n",
        "6. Abstraction: Hides complex implementation details and provides a simplified interface for interaction.\n",
        "\n",
        "7. Polymorphism: Enables flexibility by allowing different objects to be treated as instances of the same class.\n",
        "\n",
        "8. Collaboration: OOP promotes better collaboration and modular development by dividing work into smaller, manageable components.\n",
        "\n",
        "9. Real-world Modeling: Objects and classes closely represent real-world entities, making it easier to design systems that align with real-world concepts.\n",
        "\n",
        "10. Design Patterns: OOP encourages the use of proven design patterns for better software architecture and problem-solving."
      ],
      "metadata": {
        "id": "ueoormGGTOzK"
      }
    },
    {
      "cell_type": "markdown",
      "source": [
        "Ques-17  What is the difference between a class variable and an instance variable?\n",
        "\n",
        "- In Object-Oriented Programming (OOP), class variables and instance variables are both used to store data, but they differ in their scope, behavior, and usage.\n",
        "\n",
        "1. Class Variables\n",
        "\n",
        "- Definition: Class variables are variables that are shared among all instances of a class. They are defined inside the class but outside any method.\n",
        "\n",
        "- Scope: Class variables belong to the class itself, not to any individual object created from the class.\n",
        "\n",
        "- Value: The value of a class variable is shared across all instances of the class. If it is modified by one instance, the change is reflected in all other instances.\n",
        "\n",
        "- Access: Class variables can be accessed using the class name or an instance of the class.\n",
        "\n",
        "- Use case: Class variables are used when you need to store data that should be shared among all instances, such as constants or counts.\n",
        "\n",
        "2. Instance Variables\n",
        "\n",
        "- Definition: Instance variables are variables that are unique to each instance (object) of a class. They are defined within the __init__() method (constructor).\n",
        "\n",
        "- Scope: Instance variables belong to the individual object created from the class. Each object has its own copy of instance variables.\n",
        "\n",
        "- Value: The value of an instance variable can vary between different instances of the class.\n",
        "\n",
        "- Access: Instance variables can only be accessed through an instance (object) of the class, not via the class itself.\n",
        "\n",
        "- Use case: Instance variables are used to store data that is specific to each object, such as a name, age, or unique attribute."
      ],
      "metadata": {
        "id": "8rRIqsqdVN2V"
      }
    },
    {
      "cell_type": "markdown",
      "source": [
        "Ques-18  What is multiple inheritance in Python?\n",
        "\n",
        "- Multiple inheritance is a feature in Python where a class can inherit from more than one parent class. This means that a child class can inherit attributes and methods from multiple base classes, allowing it to combine functionalities from different sources.\n",
        "\n"
      ],
      "metadata": {
        "id": "AWdHwywEYoNS"
      }
    },
    {
      "cell_type": "markdown",
      "source": [
        "Ques-19  Explain the purpose of \"__str__' and '__repr__\" methods in Python.\n",
        "\n",
        "- Both __str__ and __repr__ are dunder (double underscore) methods in Python used to define how an object is represented as a string. They are particularly useful for printing objects and debugging.\n",
        "\n",
        "1. __str__() Method\n",
        "\n",
        "- Purpose: Provides a user-friendly, readable string representation of an object.\n",
        "\n",
        "- Used By: print() and str() functions.\n",
        "\n",
        "- Goal: Should return a string that is easy to read and understand.\n",
        "\n",
        "2. __repr__() Method\n",
        "\n",
        "- Purpose: Provides an unambiguous, detailed string representation of an object, useful for debugging.\n",
        "\n",
        "- Used By: repr() function and when objects are displayed in an interactive shell.\n",
        "\n",
        "- Goal: Should return a valid Python expression that can be used to recreate the object."
      ],
      "metadata": {
        "id": "zFKxL-z0ZVix"
      }
    },
    {
      "cell_type": "markdown",
      "source": [
        "Ques-20  What is the significance of the 'super()' function in Python?\n",
        "\n",
        "- The super() function in Python is used to call a method from the parent (superclass) in a child (subclass). It is mainly used in inheritance to allow child classes to access methods and properties of their parent class without explicitly referring to the parent's name."
      ],
      "metadata": {
        "id": "Q-wLOTYDdobG"
      }
    },
    {
      "cell_type": "markdown",
      "source": [
        "Ques-21  What is the significance of the __del__ method in Python?\n",
        "\n",
        "- The __del__ method is a special destructor method in Python that is automatically called when an object is about to be destroyed (i.e., when it is no longer needed and garbage collected). It allows for cleanup operations like closing files, releasing resources, or logging before an object is deleted.\n",
        "\n"
      ],
      "metadata": {
        "id": "jQOaqmv7eUPz"
      }
    },
    {
      "cell_type": "markdown",
      "source": [
        "Ques-22  What is the difference between @staticmethod and @classmethod in Python?\n",
        "\n",
        "- Both @staticmethod and @classmethod are decorators used to define methods in a class that do not work on instance-specific data. However, they have different purposes and behaviors.\n",
        "\n",
        "1. @staticmethod (Static Method)\n",
        "\n",
        "- A static method is a method that belongs to the class but does not access or modify class or instance variables. It behaves like a regular function inside a class.\n",
        "\n",
        "Key Features of @staticmethod\n",
        "- No access to self (instance) or cls (class).\n",
        "- Works like a normal function inside a class.\n",
        "-  Used when a method does not need to access or modify class/instance attributes.\n",
        "\n",
        "2. @classmethod (Class Method)\n",
        "\n",
        "- A class method operates on the class level and has access to class attributes. It takes cls as its first parameter, representing the class itself.\n",
        "\n",
        "Key Features of @classmethod\n",
        "- Uses cls instead of self.\n",
        "- Can modify class-level attributes.\n",
        "- Useful for factory methods or altering class-wide properties."
      ],
      "metadata": {
        "id": "V0X6zuiZesXF"
      }
    },
    {
      "cell_type": "markdown",
      "source": [
        "Ques-23  How does polymorphism work in Python with inheritance?\n",
        "\n",
        "- Polymorphism allows methods in different classes to have the same name but different behavior. In inheritance, polymorphism is implemented through method overriding, where a subclass provides a specific implementation of a method defined in its parent class.\n",
        "\n"
      ],
      "metadata": {
        "id": "lB6HEmW1fnNC"
      }
    },
    {
      "cell_type": "markdown",
      "source": [
        "Ques-24  What is method chaining in Python OOP?\n",
        "\n",
        "- Method chaining is a technique in Object-Oriented Programming (OOP) where multiple methods are called on the same object in a single statement. This is done by making each method return self, allowing calls to be linked together."
      ],
      "metadata": {
        "id": "d98ZkfV9gNHl"
      }
    },
    {
      "cell_type": "markdown",
      "source": [
        "Ques-25   What is the purpose of the __call__ method in Python?\n",
        "\n",
        "- The __call__ method in Python allows an instance of a class to be called like a function. It is a special (dunder) method that enables objects to be invoked directly."
      ],
      "metadata": {
        "id": "a2-dROnCglH8"
      }
    },
    {
      "cell_type": "markdown",
      "source": [
        "# Practical Questions"
      ],
      "metadata": {
        "id": "fy3Zsci7g2-r"
      }
    },
    {
      "cell_type": "markdown",
      "source": [
        "Ques-1   Create a parent class Animal with a method speak() that prints a generic message. Create a child class Dog that overrides the speak() method to print \"Bark!\"."
      ],
      "metadata": {
        "id": "khWya_kSZDAo"
      }
    },
    {
      "cell_type": "code",
      "execution_count": null,
      "metadata": {
        "id": "uh0CGeroIK8N",
        "colab": {
          "base_uri": "https://localhost:8080/"
        },
        "outputId": "d07deb22-e2ad-4df6-ff7f-eeee54c4b943"
      },
      "outputs": [
        {
          "output_type": "stream",
          "name": "stdout",
          "text": [
            "Animal makes a sound\n",
            "Bark!\n"
          ]
        }
      ],
      "source": [
        "# Parent class\n",
        "class Animal:\n",
        "    def speak(self):\n",
        "        print(\"Animal makes a sound\")\n",
        "\n",
        "# Child class\n",
        "class Dog(Animal):\n",
        "    def speak(self):  # Overriding the parent method\n",
        "        print(\"Bark!\")\n",
        "\n",
        "# Creating objects\n",
        "animal = Animal()\n",
        "dog = Dog()\n",
        "\n",
        "# Calling the speak() method\n",
        "animal.speak()  # Output: Animal makes a sound\n",
        "dog.speak()     # Output: Bark!\n"
      ]
    },
    {
      "cell_type": "markdown",
      "source": [
        "Ques-2   Write a program to create an abstract class Shape with a method area(). Derive classes Circle and Rectangle from it and implement the area() method in both.\n",
        "\n",
        "\n"
      ],
      "metadata": {
        "id": "ARMpI89taNpO"
      }
    },
    {
      "cell_type": "code",
      "source": [
        "from abc import ABC, abstractmethod\n",
        "import math\n",
        "\n",
        "# Abstract class\n",
        "class Shape(ABC):\n",
        "    @abstractmethod\n",
        "    def area(self):\n",
        "        pass  # Abstract method, must be implemented in child classes\n",
        "\n",
        "# Circle class\n",
        "class Circle(Shape):\n",
        "    def __init__(self, radius):\n",
        "        self.radius = radius\n",
        "\n",
        "    def area(self):\n",
        "        return math.pi * self.radius ** 2  # πr²\n",
        "\n",
        "# Rectangle class\n",
        "class Rectangle(Shape):\n",
        "    def __init__(self, length, width):\n",
        "        self.length = length\n",
        "        self.width = width\n",
        "\n",
        "    def area(self):\n",
        "        return self.length * self.width  # length × width\n",
        "\n",
        "# Creating objects\n",
        "circle = Circle(5)\n",
        "rectangle = Rectangle(4, 6)\n",
        "\n",
        "# Displaying areas\n",
        "print(f\"Circle Area: {circle.area():.2f}\")   # Output: Circle Area: 78.54\n",
        "print(f\"Rectangle Area: {rectangle.area()}\") # Output: Rectangle Area: 24\n"
      ],
      "metadata": {
        "colab": {
          "base_uri": "https://localhost:8080/"
        },
        "id": "90EMNjTAaS4v",
        "outputId": "fb3efd78-01e5-4e55-a399-7d852e2cdb77"
      },
      "execution_count": null,
      "outputs": [
        {
          "output_type": "stream",
          "name": "stdout",
          "text": [
            "Circle Area: 78.54\n",
            "Rectangle Area: 24\n"
          ]
        }
      ]
    },
    {
      "cell_type": "markdown",
      "source": [
        "Ques-3   Implement a multi-level inheritance scenario where a class Vehicle has an attribute type. Derive a class Car and further derive a class ElectricCar that adds a battery attribute."
      ],
      "metadata": {
        "id": "Svf_0krAbZJb"
      }
    },
    {
      "cell_type": "code",
      "source": [
        "# Base class\n",
        "class Vehicle:\n",
        "    def __init__(self, type):\n",
        "        self.type = type\n",
        "\n",
        "    def display_type(self):\n",
        "        print(f\"Vehicle Type: {self.type}\")\n",
        "\n",
        "# Intermediate class (inherits from Vehicle)\n",
        "class Car(Vehicle):\n",
        "    def __init__(self, brand, type=\"Car\"):\n",
        "        super().__init__(type)  # Call Vehicle's constructor\n",
        "        self.brand = brand\n",
        "\n",
        "    def display_info(self):\n",
        "        print(f\"Car Brand: {self.brand}\")\n",
        "\n",
        "# Derived class (inherits from Car)\n",
        "class ElectricCar(Car):\n",
        "    def __init__(self, brand, battery_capacity):\n",
        "        super().__init__(brand)  # Call Car's constructor\n",
        "        self.battery_capacity = battery_capacity\n",
        "\n",
        "    def display_battery(self):\n",
        "        print(f\"Battery Capacity: {self.battery_capacity} kWh\")\n",
        "\n",
        "# Creating an ElectricCar object\n",
        "tesla = ElectricCar(\"Tesla Model 3\", 75)\n",
        "\n",
        "# Calling methods from all levels of inheritance\n",
        "tesla.display_type()      # Output: Vehicle Type: Car (from Vehicle)\n",
        "tesla.display_info()      # Output: Car Brand: Tesla Model 3 (from Car)\n",
        "tesla.display_battery()   # Output: Battery Capacity: 75 kWh (from ElectricCar)\n"
      ],
      "metadata": {
        "colab": {
          "base_uri": "https://localhost:8080/"
        },
        "id": "AqwEbzg4bgz7",
        "outputId": "c63a17ba-f739-47d7-b7ce-f179b7972e85"
      },
      "execution_count": null,
      "outputs": [
        {
          "output_type": "stream",
          "name": "stdout",
          "text": [
            "Vehicle Type: Car\n",
            "Car Brand: Tesla Model 3\n",
            "Battery Capacity: 75 kWh\n"
          ]
        }
      ]
    },
    {
      "cell_type": "markdown",
      "source": [
        "Ques-4   Demonstrate polymorphism by creating a base class Bird with a method fly(). Create two derived classes Sparrow and Penguin that override the fly() method."
      ],
      "metadata": {
        "id": "c6u2owXccI9s"
      }
    },
    {
      "cell_type": "code",
      "source": [
        "# Base class\n",
        "class Bird:\n",
        "    def fly(self):\n",
        "        print(\"Birds can fly!\")\n",
        "\n",
        "# Derived class - Sparrow\n",
        "class Sparrow(Bird):\n",
        "    def fly(self):\n",
        "        print(\"Sparrow flies high in the sky!\")\n",
        "\n",
        "# Derived class - Penguin\n",
        "class Penguin(Bird):\n",
        "    def fly(self):\n",
        "        print(\"Penguins cannot fly, they swim!\")\n",
        "\n",
        "# Function demonstrating polymorphism\n",
        "def bird_flight(bird):\n",
        "    bird.fly()  # Calls the overridden method based on object type\n",
        "\n",
        "# Creating objects\n",
        "sparrow = Sparrow()\n",
        "penguin = Penguin()\n",
        "\n",
        "# Calling the function with different objects\n",
        "bird_flight(sparrow)  # Output: Sparrow flies high in the sky!\n",
        "bird_flight(penguin)  # Output: Penguins cannot fly, they swim!\n"
      ],
      "metadata": {
        "colab": {
          "base_uri": "https://localhost:8080/"
        },
        "id": "k1sNX3C1cTaq",
        "outputId": "ed7d5604-cd01-4493-91be-5beae027765c"
      },
      "execution_count": null,
      "outputs": [
        {
          "output_type": "stream",
          "name": "stdout",
          "text": [
            "Sparrow flies high in the sky!\n",
            "Penguins cannot fly, they swim!\n"
          ]
        }
      ]
    },
    {
      "cell_type": "markdown",
      "source": [
        "Ques-5  Write a program to demonstrate encapsulation by creating a class BankAccount with private attributes balance and methods to deposit, withdraw, and check balance."
      ],
      "metadata": {
        "id": "qzHdZYPRdW2R"
      }
    },
    {
      "cell_type": "code",
      "source": [
        "class BankAccount:\n",
        "    def __init__(self, account_holder, balance=0):\n",
        "        self.account_holder = account_holder\n",
        "        self.__balance = balance  # Private attribute\n",
        "\n",
        "    # Method to deposit money\n",
        "    def deposit(self, amount):\n",
        "        if amount > 0:\n",
        "            self.__balance += amount\n",
        "            print(f\"Deposited ${amount}. New balance: ${self.__balance}\")\n",
        "        else:\n",
        "            print(\"Deposit amount must be positive.\")\n",
        "\n",
        "    # Method to withdraw money\n",
        "    def withdraw(self, amount):\n",
        "        if 0 < amount <= self.__balance:\n",
        "            self.__balance -= amount\n",
        "            print(f\"Withdrawn ${amount}. Remaining balance: ${self.__balance}\")\n",
        "        else:\n",
        "            print(\"Invalid withdrawal amount or insufficient balance.\")\n",
        "\n",
        "    # Method to check balance\n",
        "    def get_balance(self):\n",
        "        return self.__balance  # Accessing private attribute\n",
        "\n",
        "# Creating a bank account object\n",
        "account = BankAccount(\"John Doe\", 1000)\n",
        "\n",
        "# Accessing and modifying balance using methods\n",
        "account.deposit(500)       # Output: Deposited $500. New balance: $1500\n",
        "account.withdraw(300)      # Output: Withdrawn $300. Remaining balance: $1200\n",
        "print(f\"Current Balance: ${account.get_balance()}\")  # Output: Current Balance: $1200\n",
        "\n",
        "# Attempting direct access to private attribute (will raise an AttributeError)\n",
        "# print(account.__balance)  # Uncommenting this line will cause an error\n"
      ],
      "metadata": {
        "colab": {
          "base_uri": "https://localhost:8080/"
        },
        "id": "8OfBXFPmddg0",
        "outputId": "c50542c0-2ad2-4ab2-caa1-3c6780dac38e"
      },
      "execution_count": null,
      "outputs": [
        {
          "output_type": "stream",
          "name": "stdout",
          "text": [
            "Deposited $500. New balance: $1500\n",
            "Withdrawn $300. Remaining balance: $1200\n",
            "Current Balance: $1200\n"
          ]
        }
      ]
    },
    {
      "cell_type": "markdown",
      "source": [
        "Ques-6   Demonstrate runtime polymorphism using a method play() in a base class Instrument. Derive classes Guitar and Piano that implement their own version of play()."
      ],
      "metadata": {
        "id": "fnu6Yv1uxCrl"
      }
    },
    {
      "cell_type": "code",
      "source": [
        "# Base class\n",
        "class Instrument:\n",
        "    def play(self):\n",
        "        print(\"Instrument is playing\")\n",
        "\n",
        "# Derived class - Guitar\n",
        "class Guitar(Instrument):\n",
        "    def play(self):\n",
        "        print(\"Guitar is strumming\")\n",
        "\n",
        "# Derived class - Piano\n",
        "class Piano(Instrument):\n",
        "    def play(self):\n",
        "        print(\"Piano is playing notes\")\n",
        "\n",
        "# Function demonstrating runtime polymorphism\n",
        "def start_playing(instrument):\n",
        "    instrument.play()  # Calls the correct overridden method at runtime\n",
        "\n",
        "# Creating instances\n",
        "guitar = Guitar()\n",
        "piano = Piano()\n",
        "\n",
        "# Using polymorphic behavior\n",
        "start_playing(guitar)  # Output: Guitar is strumming\n",
        "start_playing(piano)   # Output: Piano is playing notes\n"
      ],
      "metadata": {
        "colab": {
          "base_uri": "https://localhost:8080/"
        },
        "id": "T84NHIpxxcVi",
        "outputId": "3cf9f4f7-ff36-4b15-8d25-d832d3e4ff52"
      },
      "execution_count": null,
      "outputs": [
        {
          "output_type": "stream",
          "name": "stdout",
          "text": [
            "Guitar is strumming\n",
            "Piano is playing notes\n"
          ]
        }
      ]
    },
    {
      "cell_type": "markdown",
      "source": [
        "Ques-7   Create a class MathOperations with a class method add_numbers() to add two numbers and a static method subtract_numbers() to subtract two numbers."
      ],
      "metadata": {
        "id": "L-v-0vG0xw2I"
      }
    },
    {
      "cell_type": "code",
      "source": [
        "class MathOperations:\n",
        "    # Class method to add two numbers\n",
        "    @classmethod\n",
        "    def add_numbers(cls, a, b):\n",
        "        return a + b\n",
        "\n",
        "    # Static method to subtract two numbers\n",
        "    @staticmethod\n",
        "    def subtract_numbers(a, b):\n",
        "        return a - b\n",
        "\n",
        "# Using the class method\n",
        "sum_result = MathOperations.add_numbers(10, 5)\n",
        "print(f\"Sum: {sum_result}\")  # Output: Sum: 15\n",
        "\n",
        "# Using the static method\n",
        "difference = MathOperations.subtract_numbers(10, 5)\n",
        "print(f\"Difference: {difference}\")  # Output: Difference: 5\n"
      ],
      "metadata": {
        "colab": {
          "base_uri": "https://localhost:8080/"
        },
        "id": "grqFClvqx2LA",
        "outputId": "23c82c39-6f40-4899-9ad4-46db4fbc09c4"
      },
      "execution_count": null,
      "outputs": [
        {
          "output_type": "stream",
          "name": "stdout",
          "text": [
            "Sum: 15\n",
            "Difference: 5\n"
          ]
        }
      ]
    },
    {
      "cell_type": "markdown",
      "source": [
        "Ques-8   Implement a class Person with a class method to count the total number of persons created."
      ],
      "metadata": {
        "id": "DgxIT0TJyDeE"
      }
    },
    {
      "cell_type": "code",
      "source": [
        "class Person:\n",
        "    count = 0  # Class variable to track number of persons\n",
        "\n",
        "    def __init__(self, name):\n",
        "        self.name = name\n",
        "        Person.count += 1  # Increment count whenever a new object is created\n",
        "\n",
        "    @classmethod\n",
        "    def total_persons(cls):\n",
        "        return cls.count  # Return the current count\n",
        "\n",
        "# Creating person objects\n",
        "p1 = Person(\"Rahul\")\n",
        "p2 = Person(\"Anjali\")\n",
        "p3 = Person(\"Ajay\")\n",
        "\n",
        "# Calling the class method to get total persons\n",
        "print(f\"Total persons created: {Person.total_persons()}\")  # Output: Total persons created: 3\n"
      ],
      "metadata": {
        "colab": {
          "base_uri": "https://localhost:8080/"
        },
        "id": "ZKf8E48QygQk",
        "outputId": "ec682731-93ab-4112-f15a-8e946b82e15b"
      },
      "execution_count": 3,
      "outputs": [
        {
          "output_type": "stream",
          "name": "stdout",
          "text": [
            "Total persons created: 3\n"
          ]
        }
      ]
    },
    {
      "cell_type": "markdown",
      "source": [
        "Ques-9   Write a class Fraction with attributes numerator and denominator. Override the str method to display the fraction as \"numerator/denominator\"."
      ],
      "metadata": {
        "id": "Rss59-Avy04H"
      }
    },
    {
      "cell_type": "code",
      "source": [
        "class Fraction:\n",
        "    def __init__(self, numerator, denominator):\n",
        "        self.numerator = numerator\n",
        "        self.denominator = denominator\n",
        "\n",
        "    def __str__(self):\n",
        "        return f\"{self.numerator}/{self.denominator}\"\n",
        "\n",
        "# Creating Fraction objects\n",
        "f1 = Fraction(3, 4)\n",
        "f2 = Fraction(7, 2)\n",
        "\n",
        "# Printing the fractions\n",
        "print(f1)  # Output: 3/4\n",
        "print(f2)  # Output: 7/2\n"
      ],
      "metadata": {
        "colab": {
          "base_uri": "https://localhost:8080/"
        },
        "id": "PeKkp8ZDy9xa",
        "outputId": "e2d5a44b-f26f-499b-89b2-781ca8f50bc0"
      },
      "execution_count": 4,
      "outputs": [
        {
          "output_type": "stream",
          "name": "stdout",
          "text": [
            "3/4\n",
            "7/2\n"
          ]
        }
      ]
    },
    {
      "cell_type": "markdown",
      "source": [
        "Ques-10  Demonstrate operator overloading by creating a class Vector and overriding the add method to add two vectors."
      ],
      "metadata": {
        "id": "Gf1jec5lzKfO"
      }
    },
    {
      "cell_type": "code",
      "source": [
        "class Vector:\n",
        "    def __init__(self, x, y):\n",
        "        self.x = x\n",
        "        self.y = y\n",
        "\n",
        "    # Overloading the + operator\n",
        "    def __add__(self, other):\n",
        "        return Vector(self.x + other.x, self.y + other.y)\n",
        "\n",
        "    def __str__(self):\n",
        "        return f\"Vector({self.x}, {self.y})\"\n",
        "\n",
        "# Creating vector objects\n",
        "v1 = Vector(2, 3)\n",
        "v2 = Vector(4, 5)\n",
        "\n",
        "# Adding vectors using overloaded + operator\n",
        "v3 = v1 + v2\n",
        "\n",
        "# Displaying the result\n",
        "print(v3)  # Output: Vector(6, 8)\n"
      ],
      "metadata": {
        "colab": {
          "base_uri": "https://localhost:8080/"
        },
        "id": "LFmm86wOzehB",
        "outputId": "afd13a05-f0ce-4b4b-9e95-e313c656c187"
      },
      "execution_count": 5,
      "outputs": [
        {
          "output_type": "stream",
          "name": "stdout",
          "text": [
            "Vector(6, 8)\n"
          ]
        }
      ]
    },
    {
      "cell_type": "markdown",
      "source": [
        "Ques-11   Create a class Person with attributes name and age. Add a method greet() that prints \"Hello, my name is {name} and I am {age} years old.\""
      ],
      "metadata": {
        "id": "EjgOFdLozmrK"
      }
    },
    {
      "cell_type": "code",
      "source": [
        "class Person:\n",
        "    def __init__(self, name, age):\n",
        "        self.name = name\n",
        "        self.age = age\n",
        "\n",
        "    def greet(self):\n",
        "        print(f\"Hello, my name is {self.name} and I am {self.age} years old.\")\n",
        "\n",
        "# Creating a Person object\n",
        "p1 = Person(\"Ajay\", 37)\n",
        "\n",
        "# Calling the greet method\n",
        "p1.greet()\n"
      ],
      "metadata": {
        "colab": {
          "base_uri": "https://localhost:8080/"
        },
        "id": "AZINU9s9zy4L",
        "outputId": "5599ec23-748b-4c56-f92f-efcc8ab05cd1"
      },
      "execution_count": 6,
      "outputs": [
        {
          "output_type": "stream",
          "name": "stdout",
          "text": [
            "Hello, my name is Ajay and I am 37 years old.\n"
          ]
        }
      ]
    },
    {
      "cell_type": "markdown",
      "source": [
        "Ques-12   Implement a class Student with attributes name and grades. Create a method average_grade() to compute the average of the grades."
      ],
      "metadata": {
        "id": "2u0IdOvP0MHh"
      }
    },
    {
      "cell_type": "code",
      "source": [
        "class Student:\n",
        "    def __init__(self, name, grades):\n",
        "        self.name = name\n",
        "        self.grades = grades  # grades should be a list of numbers\n",
        "\n",
        "    def average_grade(self):\n",
        "        if self.grades:\n",
        "            return sum(self.grades) / len(self.grades)\n",
        "        else:\n",
        "            return 0\n",
        "\n",
        "# Creating a Student object\n",
        "s1 = Student(\"Rahul\", [85, 90, 78, 92])\n",
        "\n",
        "# Calculating and displaying average grade\n",
        "print(f\"{s1.name}'s average grade is: {s1.average_grade():.2f}\")"
      ],
      "metadata": {
        "colab": {
          "base_uri": "https://localhost:8080/"
        },
        "id": "nqRnPpxA0UOE",
        "outputId": "6d7c1274-485d-4ab0-b24e-5bdd9cad0617"
      },
      "execution_count": 8,
      "outputs": [
        {
          "output_type": "stream",
          "name": "stdout",
          "text": [
            "Rahul's average grade is: 86.25\n"
          ]
        }
      ]
    },
    {
      "cell_type": "markdown",
      "source": [
        "Ques-13   Create a class Rectangle with methods set_dimensions() to set the dimensions and area() to calculate the area."
      ],
      "metadata": {
        "id": "mwGPcmB80p5W"
      }
    },
    {
      "cell_type": "code",
      "source": [
        "class Rectangle:\n",
        "    def __init__(self):\n",
        "        self.length = 0\n",
        "        self.width = 0\n",
        "\n",
        "    # Method to set dimensions\n",
        "    def set_dimensions(self, length, width):\n",
        "        self.length = length\n",
        "        self.width = width\n",
        "\n",
        "    # Method to calculate area\n",
        "    def area(self):\n",
        "        return self.length * self.width\n",
        "\n",
        "# Creating a Rectangle object\n",
        "rect = Rectangle()\n",
        "\n",
        "# Setting dimensions\n",
        "rect.set_dimensions(5, 3)\n",
        "\n",
        "# Calculating and displaying the area\n",
        "print(f\"Area of rectangle: {rect.area()}\")  # Output: Area of rectangle: 15\n"
      ],
      "metadata": {
        "colab": {
          "base_uri": "https://localhost:8080/"
        },
        "id": "_orBAM3B0yx2",
        "outputId": "91a29d03-572b-4134-b0b1-50544de2c94d"
      },
      "execution_count": 9,
      "outputs": [
        {
          "output_type": "stream",
          "name": "stdout",
          "text": [
            "Area of rectangle: 15\n"
          ]
        }
      ]
    },
    {
      "cell_type": "markdown",
      "source": [
        "Ques-14   Create a class Employee with a method calculate_salary() that computes the salary based on hours worked and hourly rate. Create a derived class Manager that adds a bonus to the salary."
      ],
      "metadata": {
        "id": "QLzxLeBo1_I7"
      }
    },
    {
      "cell_type": "code",
      "source": [
        "# Base class\n",
        "class Employee:\n",
        "    def __init__(self, name, hours_worked, hourly_rate):\n",
        "        self.name = name\n",
        "        self.hours_worked = hours_worked\n",
        "        self.hourly_rate = hourly_rate\n",
        "\n",
        "    def calculate_salary(self):\n",
        "        return self.hours_worked * self.hourly_rate\n",
        "\n",
        "# Derived class\n",
        "class Manager(Employee):\n",
        "    def __init__(self, name, hours_worked, hourly_rate, bonus):\n",
        "        super().__init__(name, hours_worked, hourly_rate)\n",
        "        self.bonus = bonus\n",
        "\n",
        "    def calculate_salary(self):\n",
        "        base_salary = super().calculate_salary()\n",
        "        return base_salary + self.bonus\n",
        "\n",
        "# Creating Employee and Manager objects\n",
        "emp = Employee(\"Alice\", 40, 20)\n",
        "mgr = Manager(\"Bob\", 45, 30, 500)\n",
        "\n",
        "# Displaying salaries\n",
        "print(f\"{emp.name}'s salary: ${emp.calculate_salary()}\")     # Output: Alice's salary: $800\n",
        "print(f\"{mgr.name}'s salary: ${mgr.calculate_salary()}\")     # Output: Bob's salary: $1850\n"
      ],
      "metadata": {
        "colab": {
          "base_uri": "https://localhost:8080/"
        },
        "id": "bR0YhGvW2EvB",
        "outputId": "d4ccace8-4fb5-4231-f04f-d646ae923753"
      },
      "execution_count": 11,
      "outputs": [
        {
          "output_type": "stream",
          "name": "stdout",
          "text": [
            "Alice's salary: $800\n",
            "Bob's salary: $1850\n"
          ]
        }
      ]
    },
    {
      "cell_type": "markdown",
      "source": [
        "Ques-15  Create a class Product with attributes name, price, and quantity. Implement a method total_price() that calculates the total price of the product."
      ],
      "metadata": {
        "id": "rVefLpMN2Yuu"
      }
    },
    {
      "cell_type": "code",
      "source": [
        "class Product:\n",
        "    def __init__(self, name, price, quantity):\n",
        "        self.name = name\n",
        "        self.price = price\n",
        "        self.quantity = quantity\n",
        "\n",
        "    def total_price(self):\n",
        "        return self.price * self.quantity\n",
        "\n",
        "# Creating a Product object\n",
        "p1 = Product(\"Laptop\", 800, 2)\n",
        "\n",
        "# Calculating and displaying total price\n",
        "print(f\"Total price for {p1.name}: ${p1.total_price()}\")  # Output: Total price for Laptop: $1600\n"
      ],
      "metadata": {
        "colab": {
          "base_uri": "https://localhost:8080/"
        },
        "id": "X-hkI6Yp2mpc",
        "outputId": "06e65afe-786a-42fa-e3cf-fdb8ac4666d7"
      },
      "execution_count": 12,
      "outputs": [
        {
          "output_type": "stream",
          "name": "stdout",
          "text": [
            "Total price for Laptop: $1600\n"
          ]
        }
      ]
    },
    {
      "cell_type": "markdown",
      "source": [
        "Ques-16  Create a class Animal with an abstract method sound(). Create two derived classes Cow and Sheep that implement the sound() method."
      ],
      "metadata": {
        "id": "3DSgO9Lo26Z8"
      }
    },
    {
      "cell_type": "code",
      "source": [
        "from abc import ABC, abstractmethod\n",
        "\n",
        "# Abstract base class\n",
        "class Animal(ABC):\n",
        "    @abstractmethod\n",
        "    def sound(self):\n",
        "        pass\n",
        "\n",
        "# Derived class - Cow\n",
        "class Cow(Animal):\n",
        "    def sound(self):\n",
        "        return \"Moo\"\n",
        "\n",
        "# Derived class - Sheep\n",
        "class Sheep(Animal):\n",
        "    def sound(self):\n",
        "        return \"Baa\"\n",
        "\n",
        "# Creating objects\n",
        "cow = Cow()\n",
        "sheep = Sheep()\n",
        "\n",
        "# Calling the sound method\n",
        "print(f\"Cow sound: {cow.sound()}\")     # Output: Cow sound: Moo\n",
        "print(f\"Sheep sound: {sheep.sound()}\") # Output: Sheep sound: Baa\n"
      ],
      "metadata": {
        "colab": {
          "base_uri": "https://localhost:8080/"
        },
        "id": "ST5OzwwG3B29",
        "outputId": "17b12d8b-8435-4722-ac60-de9efdb9b62a"
      },
      "execution_count": 13,
      "outputs": [
        {
          "output_type": "stream",
          "name": "stdout",
          "text": [
            "Cow sound: Moo\n",
            "Sheep sound: Baa\n"
          ]
        }
      ]
    },
    {
      "cell_type": "markdown",
      "source": [
        "Ques-17  Create a class Book with attributes title, author, and year_published. Add a method get_book_info() that returns a formatted string with the book's details."
      ],
      "metadata": {
        "id": "QAsXCqqc3Lld"
      }
    },
    {
      "cell_type": "code",
      "source": [
        "class Book:\n",
        "    def __init__(self, title, author, year_published):\n",
        "        self.title = title\n",
        "        self.author = author\n",
        "        self.year_published = year_published\n",
        "\n",
        "    def get_book_info(self):\n",
        "        return f\"'{self.title}' by {self.author} (Published in {self.year_published})\"\n",
        "\n",
        "# Creating a Book object\n",
        "book1 = Book(\"To Kill a Mockingbird\", \"Harper Lee\", 1960)\n",
        "\n",
        "# Displaying book info\n",
        "print(book1.get_book_info())\n",
        "# Output: 'To Kill a Mockingbird' by Harper Lee (Published in 1960)\n"
      ],
      "metadata": {
        "colab": {
          "base_uri": "https://localhost:8080/"
        },
        "id": "wd4_rU193Syl",
        "outputId": "4c392502-3783-4703-dbe2-06a09d48fd68"
      },
      "execution_count": 14,
      "outputs": [
        {
          "output_type": "stream",
          "name": "stdout",
          "text": [
            "'To Kill a Mockingbird' by Harper Lee (Published in 1960)\n"
          ]
        }
      ]
    },
    {
      "cell_type": "markdown",
      "source": [
        "Ques-18   Create a class House with attributes address and price. Create a derived class Mansion that adds an attribute number_of_rooms."
      ],
      "metadata": {
        "id": "jP3bsa1f3bHf"
      }
    },
    {
      "cell_type": "code",
      "source": [
        "# Base class\n",
        "class House:\n",
        "    def __init__(self, address, price):\n",
        "        self.address = address\n",
        "        self.price = price\n",
        "\n",
        "# Derived class\n",
        "class Mansion(House):\n",
        "    def __init__(self, address, price, number_of_rooms):\n",
        "        super().__init__(address, price)  # Call the constructor of the base class\n",
        "        self.number_of_rooms = number_of_rooms\n",
        "\n",
        "    def get_info(self):\n",
        "        return (f\"Mansion at {self.address}, Price: ${self.price}, \"\n",
        "                f\"Rooms: {self.number_of_rooms}\")\n",
        "\n",
        "# Creating a Mansion object\n",
        "m1 = Mansion(\"123 Dream Lane\", 2500000, 10)\n",
        "\n",
        "# Displaying mansion information\n",
        "print(m1.get_info())\n",
        "# Output: Mansion at 123 Dream Lane, Price: $2500000, Rooms: 10\n"
      ],
      "metadata": {
        "colab": {
          "base_uri": "https://localhost:8080/"
        },
        "id": "ElrZe4L63hGC",
        "outputId": "8391c8ca-a5e7-4863-abb7-6943f555e645"
      },
      "execution_count": 15,
      "outputs": [
        {
          "output_type": "stream",
          "name": "stdout",
          "text": [
            "Mansion at 123 Dream Lane, Price: $2500000, Rooms: 10\n"
          ]
        }
      ]
    }
  ]
}